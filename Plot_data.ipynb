{
 "cells": [
  {
   "cell_type": "code",
   "execution_count": 2,
   "id": "9df409a5-5ce3-468d-8c7d-dc57738d6073",
   "metadata": {},
   "outputs": [],
   "source": [
    "import numpy as np\n",
    "import pandas as pd\n",
    "import matplotlib.pyplot as plt\n",
    "from matplotlib import use\n",
    "use('Agg')\n",
    "import warnings\n",
    "warnings.filterwarnings('ignore')\n",
    "plt.rc('xtick', labelsize=14)\n",
    "plt.rc('ytick', labelsize=14)\n",
    "from scipy.optimize import curve_fit\n",
    "from src.simulate_func import hill_func_new_mut"
   ]
  },
  {
   "cell_type": "markdown",
   "id": "dddbdf53-dd1b-4bb9-8d80-10e53793e9e3",
   "metadata": {},
   "source": [
    "# Generate dose-response plot from Isunakinra variants in HEK Blue IL-1B cells"
   ]
  },
  {
   "cell_type": "code",
   "execution_count": 13,
   "id": "33433bb5-3990-4a7f-b2d6-62e820615021",
   "metadata": {},
   "outputs": [],
   "source": [
    "# Load simulation data \n",
    "df_sim = pd.read_csv(\"data/simulations.csv\")\n",
    "df_sim = df_sim[df_sim.columns[1:]]"
   ]
  },
  {
   "cell_type": "code",
   "execution_count": 14,
   "id": "d571ee8b-d462-47cd-baf1-fd791217690c",
   "metadata": {},
   "outputs": [],
   "source": [
    "# Load in vitro data\n",
    "df_invit = pd.read_csv(\"data_IL1B/IL1B_data.csv\")"
   ]
  },
  {
   "cell_type": "code",
   "execution_count": 15,
   "id": "e5f032fe-08e5-4e51-a374-544b38aed8d1",
   "metadata": {},
   "outputs": [],
   "source": [
    "# Directory location where to store plots\n",
    "directory = \"plots/\""
   ]
  },
  {
   "cell_type": "code",
   "execution_count": 16,
   "id": "02af4726-9215-49d1-a30a-eab6ddbb01ca",
   "metadata": {},
   "outputs": [],
   "source": [
    "# Colors for mutants:\n",
    "color_sim = [\"darkgreen\",\"olivedrab\",\"magenta\",\"darkorange\",\"blue\"]\n",
    "color_invit = [\"forestgreen\",\"yellowgreen\",\"orchid\",\"darkorange\",\"cornflowerblue\"]\n",
    "markers = ['o','^',\"P\",\"X\",\"s\"]\n",
    "linestyles = [\"dotted\",\"dashdot\",\"dashed\",(5, (10, 3)),(0, (3, 1, 1, 1, 1, 1))]"
   ]
  },
  {
   "cell_type": "code",
   "execution_count": 17,
   "id": "85b804e2-2bb5-4339-bf47-372c82c9c874",
   "metadata": {},
   "outputs": [],
   "source": [
    "df_invit.loc[df_invit[\"Variant\"]==\"93:60\",\"Variant\"] = \"93:60 (Isunakinra)\"\n",
    "df_sim.loc[df_sim[\"Variant\"]==\"93:60\",\"Variant\"] = \"93:60 (Isunakinra)\""
   ]
  },
  {
   "cell_type": "code",
   "execution_count": 18,
   "id": "1e83f447-d2d7-4e60-b728-01d10ad525c7",
   "metadata": {},
   "outputs": [],
   "source": [
    "for plot_num in list(dict.fromkeys(df_sim[\"Plot\"])):\n",
    "    df_sim_plot = df_sim.loc[df_sim[\"Plot\"]==plot_num]\n",
    "    df_invit_plot = df_invit.loc[df_invit[\"Plot\"]==plot_num]\n",
    "\n",
    "    # First plot WT\n",
    "    variant = list(dict.fromkeys(df_sim_plot[\"Variant\"]))[0]\n",
    "    fig,ax=plt.subplots(1,1,figsize=(9, 8), dpi=400)\n",
    "    max_WT = df_sim_plot.loc[df_sim_plot[\"Variant\"]==variant][\"Result\"].max()\n",
    "    ax.scatter(df_invit_plot.loc[df_invit_plot[\"Variant\"]==variant][\"A\"].values, df_invit_plot.loc[df_invit_plot[\"Variant\"]==variant][\"pSTAT\"].values, s=100, linewidth=4, color=\"salmon\",marker='*')\n",
    "    ax.plot(df_sim_plot.loc[df_sim_plot[\"Variant\"]==variant][\"A0\"].values, np.multiply(df_sim_plot.loc[df_sim_plot[\"Variant\"]==variant][\"Result\"].values,100/(max_WT)), linewidth=7.5, label=variant,color=\"darkred\", linestyle=\"solid\")\n",
    "    i=0\n",
    "    # Then plot the other variants\n",
    "    for variant in list(dict.fromkeys(df_sim_plot[\"Variant\"]))[1:]:\n",
    "        ax.scatter(df_invit_plot.loc[df_invit_plot[\"Variant\"]==variant][\"A\"].values, df_invit_plot.loc[df_invit_plot[\"Variant\"]==variant][\"pSTAT\"].values, s=100, linewidth=4, color=color_invit[i],marker=markers[i])\n",
    "        ax.plot(df_sim_plot.loc[df_sim_plot[\"Variant\"]==variant][\"A0\"].values, np.multiply(df_sim_plot.loc[df_sim_plot[\"Variant\"]==variant][\"Result\"].values,100/(max_WT)), linewidth=7.5, label=variant,color=color_sim[i], linestyle=linestyles[i])\n",
    "        i += 1\n",
    "    plt.legend(loc=\"upper right\", fontsize=15)\n",
    "    ax.set_xticks(10**np.arange(round(np.log10(df_sim_plot[\"A0\"].min()),0)+1,round(np.log10(df_sim_plot[\"A0\"].max()),0)+1,2))\n",
    "    ax.spines[\"bottom\"].set_linewidth(4)\n",
    "    ax.spines[\"left\"].set_linewidth(4)\n",
    "    ax.spines[\"top\"].set_visible(False)\n",
    "    ax.spines[\"right\"].set_visible(False)\n",
    "    ax.xaxis.set_tick_params(width=5, length=10)\n",
    "    ax.yaxis.set_tick_params(width=5, length=10)\n",
    "    ax.tick_params(axis='x', labelsize=25)\n",
    "    ax.tick_params(axis='y', labelsize=25)\n",
    "    plt.xscale('log')\n",
    "    plt.ylabel('IL1B signaling (%)', fontsize=25)\n",
    "    plt.xlabel('Antagonist (M)', fontsize=25)\n",
    "    plt.savefig(directory +'Plot_n'+str(df_sim_plot[\"Plot\"].values[0])+'_cell_'+df_sim_plot[\"Cell_type\"].values[0]+'.png', transparent=True, bbox_inches=\"tight\")\n",
    "    plt.savefig(directory +'Plot_n'+str(df_sim_plot[\"Plot\"].values[0])+'_cell_'+df_sim_plot[\"Cell_type\"].values[0]+'.svg', transparent=True, bbox_inches=\"tight\", format=\"svg\")\n",
    "    plt.show()"
   ]
  },
  {
   "cell_type": "markdown",
   "id": "10d5aa15-93eb-4320-958c-6e266f62bc42",
   "metadata": {},
   "source": [
    "# Generate heat map of diffences in IC50"
   ]
  },
  {
   "cell_type": "code",
   "execution_count": 2,
   "id": "f9aa1bdf-2a9c-47c8-8426-6a815d7919b8",
   "metadata": {},
   "outputs": [],
   "source": [
    "df_heat = pd.read_csv(\"data/heat_map_isu.csv\")"
   ]
  },
  {
   "cell_type": "code",
   "execution_count": 8,
   "id": "e8459c97-3d20-43d7-bb29-d74d88b2c965",
   "metadata": {},
   "outputs": [],
   "source": [
    "# Take data\n",
    "log_y_vec = np.log10(list(dict.fromkeys(df_heat[\"IL\"].values)))\n",
    "log_x_vec = list(dict.fromkeys(df_heat[\"R1\"].values))\n",
    "dEC50_mat = []\n",
    "for IL_val in list(dict.fromkeys(df_heat[\"IL\"].values)):\n",
    "    df_IL = df_heat.loc[df_heat[\"IL\"] == IL_val]\n",
    "    dEC50_mat.append(df_IL[\"dEC50\"].tolist())\n",
    "dEC50_mat = np.array(dEC50_mat)"
   ]
  },
  {
   "cell_type": "code",
   "execution_count": null,
   "id": "2bca7b86-d5d3-4c6a-9b98-b1a077de9576",
   "metadata": {
    "tags": []
   },
   "outputs": [],
   "source": [
    "# Save data in plots\n",
    "log_x, log_y = np.meshgrid(log_x_vec, log_y_vec)\n",
    "fig,ax=plt.subplots(1,1,figsize=(8, 6), dpi=600)\n",
    "cf = ax.pcolormesh(log_x_vec, log_y_vec, dEC50_mat, cmap='viridis', shading='nearest')\n",
    "plt.scatter(3.647365869373922/1.2, np.log10(6e-12), color=\"red\", linewidth=6)\n",
    "ax.text(3.647365869373922/1.2+0.025, np.log10(6e-12)+0.2, \"HEK\",fontsize=16, color=\"red\")\n",
    "plt.scatter(3.202618857361186/1.2, np.log10(6e-12), color=\"green\", linewidth=6)\n",
    "ax.text(3.202618857361186/1.2-0.5, np.log10(6e-12)+0.2, \"HT29\",fontsize=16, color=\"green\")\n",
    "ax.set_ylabel(\"log10 [IL1B] (M)\", fontsize=16,labelpad=7)\n",
    "ax.set_xlabel(\"log10 IL1R1 expression\", fontsize=16,labelpad=7)\n",
    "cb = fig.colorbar(cf)\n",
    "cb.set_label(label=\"log10 dIC50 (M)\", size=16)\n",
    "ax.tick_params(axis='x', labelsize=16)\n",
    "ax.tick_params(axis='y', labelsize=16)\n",
    "plt.savefig('plots/dIC50_heat_map_isu.png', transparent=True, bbox_inches=\"tight\")\n",
    "plt.close(fig)"
   ]
  },
  {
   "cell_type": "markdown",
   "id": "7c2c3671-61c3-4327-930c-ea524eee4516",
   "metadata": {},
   "source": [
    "# Instead of heat map, plot only one IL1B concentration (6*10⁻¹²)"
   ]
  },
  {
   "cell_type": "code",
   "execution_count": 9,
   "id": "2124f091-1eab-4f4c-b61c-9b7fb9dc09d0",
   "metadata": {},
   "outputs": [],
   "source": [
    "def hill_func_heat_map(inp,K,amp,n):\n",
    "    out=amp/(1+(inp/K)**n)\n",
    "    return out"
   ]
  },
  {
   "cell_type": "code",
   "execution_count": 10,
   "id": "86257abb-b74f-4405-96a5-6acb5f9b56ff",
   "metadata": {},
   "outputs": [],
   "source": [
    "df_heat = pd.read_csv(\"data/heat_map_isu.csv\")\n",
    "R1_expr = df_heat.loc[df_heat[\"IL\"] == 6.000000000000003e-12,\"R1\"].values\n",
    "dIC50 = df_heat.loc[df_heat[\"IL\"] == 6.000000000000003e-12,\"dEC50\"].values\n",
    "fit, cov = curve_fit(hill_func_heat_map, R1_expr, dIC50, bounds = ([10.5,1,4], [15,1.1,5]))"
   ]
  },
  {
   "cell_type": "code",
   "execution_count": 11,
   "id": "e72be4c4-3487-4713-af28-cab76d3109e7",
   "metadata": {},
   "outputs": [],
   "source": [
    "R1_expr_curve=np.linspace(2**R1_expr.min(),2**R1_expr.max(),30)"
   ]
  },
  {
   "cell_type": "code",
   "execution_count": 12,
   "id": "91b67443-9a48-4e95-8c18-e5a413ddc8d8",
   "metadata": {},
   "outputs": [],
   "source": [
    "fig,ax=plt.subplots(1,1,figsize=(9, 8), dpi=400)\n",
    "ax.plot(3.763891690163789/1.2*np.ones(2), [dIC50.min(),dIC50.max()], color=\"blue\", linewidth=5, linestyle=\"dashed\", zorder=1) \n",
    "ax.text(3.763891690163789/1.2+0.025, 0.1, \"HEK\",fontsize=20, color=\"blue\", zorder=2)\n",
    "ax.plot(3.202618857361186/1.2*np.ones(2), [dIC50.min(),dIC50.max()], color=\"darkgreen\", linewidth=5, linestyle=\"dashed\", zorder=3) \n",
    "ax.text(3.202618857361186/1.2-0.5, 0.1, \"HT29\",fontsize=20, color=\"darkgreen\", zorder=4)\n",
    "ax.scatter(R1_expr, dIC50, s=100, linewidth=4, color=\"salmon\",marker='*', zorder=5)\n",
    "ax.plot(np.log2(R1_expr_curve), hill_func_heat_map(R1_expr_curve,fit[0],fit[1],fit[2]), linewidth=7.5,color=\"darkred\", linestyle=\"solid\", zorder=6)\n",
    "ax.spines[\"bottom\"].set_linewidth(4)\n",
    "ax.spines[\"left\"].set_linewidth(4)\n",
    "ax.spines[\"top\"].set_visible(False)\n",
    "ax.spines[\"right\"].set_visible(False)\n",
    "ax.xaxis.set_tick_params(width=5, length=10)\n",
    "ax.yaxis.set_tick_params(width=5, length=10)\n",
    "ax.tick_params(axis='x', labelsize=25)\n",
    "ax.tick_params(axis='y', labelsize=25)\n",
    "plt.xlabel(\"log10 IL1R1 expression\", fontsize=25)\n",
    "plt.ylabel(\"log10 dIC50 (M)\", fontsize=25)\n",
    "plt.savefig('plots/dIC50_single_concentration.png', transparent=True, bbox_inches=\"tight\")\n",
    "plt.savefig('plots/dIC50_single_concentration.svg', transparent=True, bbox_inches=\"tight\", format=\"svg\")\n",
    "plt.close(fig)"
   ]
  },
  {
   "cell_type": "markdown",
   "id": "3e2b3768-63db-4f06-8c6c-96d331cbbdf4",
   "metadata": {},
   "source": [
    "# Get predicetd IC50 ratio of new mutant/WT in HEK/HT29 cells"
   ]
  },
  {
   "cell_type": "code",
   "execution_count": 3,
   "id": "0c5f17cd-f093-48f3-9745-8852a5e143d6",
   "metadata": {},
   "outputs": [
    {
     "name": "stdout",
     "output_type": "stream",
     "text": [
      "Experimental ratio WT/Mutant (HEK): 6.5\n",
      "Modeled ratio WT/Mutant (HEK): 1.2414258807797065\n",
      "Experimental ratio WT/Mutant (HT29): 22\n",
      "Modeled ratio WT/Mutant (HT29): 13.371562549279778\n"
     ]
    }
   ],
   "source": [
    "# Load simulation data \n",
    "df_sim = pd.read_csv(\"data/simulations_New_mut.csv\")\n",
    "df_sim = df_sim[df_sim.columns[1:]]\n",
    "\n",
    "df_HEK = df_sim.loc[df_sim[\"Cell_type\"]==\"ACH-000049\"]\n",
    "df_HT29 = df_sim.loc[df_sim[\"Cell_type\"]==\"ACH-000552\"]\n",
    "\n",
    "df_var = df_HEK.loc[df_HEK[\"Variant\"] == \"93:60\"]\n",
    "max_WT = df_var[\"Result\"].max()\n",
    "fit, cov = curve_fit(hill_func_new_mut, df_var[\"A0\"], df_var[\"Result\"].values*100/(max_WT), bounds = ([df_var[\"A0\"].min()/100,max_WT-17], [df_var[\"A0\"].max()*100,max_WT+17]))\n",
    "Isun_HEK_IC50 = fit[0]\n",
    "\n",
    "df_var = df_HEK.loc[df_HEK[\"Variant\"] == \"Mut\"]\n",
    "max_WT = df_var[\"Result\"].max()\n",
    "fit, cov = curve_fit(hill_func_new_mut, df_var[\"A0\"], df_var[\"Result\"].values*100/(max_WT), bounds = ([df_var[\"A0\"].min()/100,max_WT-17], [df_var[\"A0\"].max()*100,max_WT+17]))\n",
    "Mut_HEK_IC50 = fit[0]\n",
    "\n",
    "print(\"Experimental ratio WT/Mutant (HEK): \" + str(6.5))\n",
    "print(\"Modeled ratio WT/Mutant (HEK): \" + str(Isun_HEK_IC50/Mut_HEK_IC50))\n",
    "\n",
    "df_var = df_HT29.loc[df_HT29[\"Variant\"] == \"93:60\"]\n",
    "max_WT = df_var[\"Result\"].max()\n",
    "fit, cov = curve_fit(hill_func_new_mut, df_var[\"A0\"], df_var[\"Result\"].values*100/(max_WT), bounds = ([df_var[\"A0\"].min()/100,max_WT-17], [df_var[\"A0\"].max()*100,max_WT+17]))\n",
    "Isun_HT29_IC50 = fit[0]\n",
    "\n",
    "df_var = df_HT29.loc[df_HT29[\"Variant\"] == \"Mut\"]\n",
    "max_WT = df_var[\"Result\"].max()\n",
    "fit, cov = curve_fit(hill_func_new_mut, df_var[\"A0\"], df_var[\"Result\"].values*100/(max_WT), bounds = ([df_var[\"A0\"].min()/100,max_WT-17], [df_var[\"A0\"].max()*100,max_WT+17]))\n",
    "Mut_HT29_IC50 = fit[0]\n",
    "\n",
    "print(\"Experimental ratio WT/Mutant (HT29): \" + str(22))\n",
    "print(\"Modeled ratio WT/Mutant (HT29): \" + str(Isun_HT29_IC50/Mut_HT29_IC50))"
   ]
  },
  {
   "cell_type": "code",
   "execution_count": 13,
   "id": "5739eff5-1c52-4935-b121-79468986f0d6",
   "metadata": {},
   "outputs": [
    {
     "name": "stdout",
     "output_type": "stream",
     "text": [
      "Model predicts mutant has a binding rate 6.0 times higher\n"
     ]
    }
   ],
   "source": [
    "df_bind = pd.read_csv('data_IL1B/IL1B_data_param_fit.csv')\n",
    "# Chnage df_bind to add the new mutant to fit\n",
    "df_bind = df_bind.loc[[5]][df_bind.columns[1:]]\n",
    "df_bind = df_bind.reset_index(drop=True)\n",
    "df_bind.loc[1] = df_bind.loc[0]\n",
    "df_bind.loc[1,\"Variant\"] = \"Mut\"\n",
    "df_bind.loc[1,\"k_A_R1_f\"] = 3794328.37281239\n",
    "\n",
    "print(\"Model predicts mutant has a binding rate \"+str(round(df_bind[\"k_A_R1_f\"].values[1]/df_bind[\"k_A_R1_f\"].values[0],2))+\" times higher\")"
   ]
  }
 ],
 "metadata": {
  "kernelspec": {
   "display_name": "Python [conda env:env_IL_models]",
   "language": "python",
   "name": "conda-env-env_IL_models-py"
  },
  "language_info": {
   "codemirror_mode": {
    "name": "ipython",
    "version": 3
   },
   "file_extension": ".py",
   "mimetype": "text/x-python",
   "name": "python",
   "nbconvert_exporter": "python",
   "pygments_lexer": "ipython3",
   "version": "3.10.9"
  }
 },
 "nbformat": 4,
 "nbformat_minor": 5
}

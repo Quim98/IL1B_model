{
 "cells": [
  {
   "cell_type": "code",
   "execution_count": 2,
   "id": "5b0a763b-6470-4acc-ba63-a6a447551cd5",
   "metadata": {},
   "outputs": [],
   "source": [
    "import pandas as pd\n",
    "from scipy import optimize\n",
    "from scipy.optimize import curve_fit\n",
    "import numpy as np\n",
    "import warnings\n",
    "warnings.filterwarnings('ignore')\n",
    "import matplotlib.pyplot as plt\n",
    "from sklearn.linear_model import TheilSenRegressor\n",
    "from sklearn.datasets import make_regression\n",
    "from sklearn.metrics import r2_score\n",
    "import pickle\n",
    "import matplotlib.pyplot as plt"
   ]
  },
  {
   "cell_type": "markdown",
   "id": "539a3605-1709-4b3a-a710-88421eb466fe",
   "metadata": {
    "tags": []
   },
   "source": [
    "## HEK cells"
   ]
  },
  {
   "cell_type": "code",
   "execution_count": 3,
   "id": "870b53c3-8449-43b7-853a-9aa2b3c2aa9c",
   "metadata": {},
   "outputs": [
    {
     "name": "stdout",
     "output_type": "stream",
     "text": [
      "Fitted EC50: 1.498452920838194e-10\n",
      "Fitted Max activ: 0.9990791456517643\n"
     ]
    }
   ],
   "source": [
    "df = pd.read_csv('data_IL1B/HEK/WT.csv', header=None)\n",
    "df.columns = [\"IL\", \"pSTAT\"]\n",
    "# Mistake when collecting data pM is 1e-12!!!\n",
    "df[\"IL\"] = df[\"IL\"]*1e-3\n",
    "fit, cov = curve_fit(hill_func, df[\"IL\"], df[\"pSTAT\"], bounds = ([0,df[\"IL\"].min()/100], [df[\"pSTAT\"].max()+20, df[\"IL\"].max()]))\n",
    "df[\"pSTAT\"] = df[\"pSTAT\"]/fit[0]*100\n",
    "i=1\n",
    "df[\"Plot\"] = [i,i,i,i,i,i,i,i]\n",
    "i=\"ACH-000049\"\n",
    "df[\"Cell_type\"] = [i,i,i,i,i,i,i,i]\n",
    "i=\"WT\"\n",
    "df[\"Variant\"] = [i,i,i,i,i,i,i,i]\n",
    "df = df[[\"Plot\",\"Cell_type\",\"Variant\",\"IL\",\"pSTAT\"]]\n",
    "df_data = df\n",
    "print(\"Fitted EC50: \"+str(fit[1]))\n",
    "print(\"Fitted Max activ: \"+str(fit[0]))"
   ]
  },
  {
   "cell_type": "code",
   "execution_count": 4,
   "id": "fb865def-90e2-4a25-91c4-e1920b9f8859",
   "metadata": {},
   "outputs": [],
   "source": [
    "df = pd.read_csv('data_IL1B/HEK/39_113.csv', header=None)\n",
    "df.columns = [\"IL\", \"pSTAT\"]\n",
    "# Mistake when collecting data pM is 1e-12!!!\n",
    "df[\"IL\"] = df[\"IL\"]*1e-3\n",
    "df[\"pSTAT\"] = df[\"pSTAT\"]/fit[0]*100\n",
    "i=1\n",
    "df[\"Plot\"] = [i,i,i,i,i,i,i,i]\n",
    "i=\"ACH-000049\"\n",
    "df[\"Cell_type\"] = [i,i,i,i,i,i,i,i]\n",
    "i=\"39:113\"\n",
    "df[\"Variant\"] = [i,i,i,i,i,i,i,i]\n",
    "df = df[[\"Plot\",\"Cell_type\",\"Variant\",\"IL\",\"pSTAT\"]]\n",
    "df_data = df_data.append(df, ignore_index=True)"
   ]
  },
  {
   "cell_type": "code",
   "execution_count": 5,
   "id": "1bb431a2-2d2b-4659-aa34-e2bef7a1dc23",
   "metadata": {},
   "outputs": [],
   "source": [
    "df = pd.read_csv('data_IL1B/HEK/54_98.csv', header=None)\n",
    "df.columns = [\"IL\", \"pSTAT\"]\n",
    "df[\"IL\"] = df[\"IL\"]*1e-3\n",
    "df[\"pSTAT\"] = df[\"pSTAT\"]/fit[0]*100\n",
    "i=1\n",
    "df[\"Plot\"] = [i,i,i,i,i,i,i,i]\n",
    "i=\"ACH-000049\"\n",
    "df[\"Cell_type\"] = [i,i,i,i,i,i,i,i]\n",
    "i=\"54:98\"\n",
    "df[\"Variant\"] = [i,i,i,i,i,i,i,i]\n",
    "df = df[[\"Plot\",\"Cell_type\",\"Variant\",\"IL\",\"pSTAT\"]]\n",
    "df_data = df_data.append(df, ignore_index=True)"
   ]
  },
  {
   "cell_type": "code",
   "execution_count": 6,
   "id": "9bc1bf48-052c-4380-bf61-0f607d3f4d60",
   "metadata": {},
   "outputs": [],
   "source": [
    "df = pd.read_csv('data_IL1B/HEK/74_79.csv', header=None)\n",
    "df.columns = [\"IL\", \"pSTAT\"]\n",
    "# Mistake when collecting data pM is 1e-12!!!\n",
    "df[\"IL\"] = df[\"IL\"]*1e-3\n",
    "df[\"pSTAT\"] = df[\"pSTAT\"]/fit[0]*100\n",
    "i=1\n",
    "df[\"Plot\"] = [i,i,i,i,i,i,i,i]\n",
    "i=\"ACH-000049\"\n",
    "df[\"Cell_type\"] = [i,i,i,i,i,i,i,i]\n",
    "i=\"74:79\"\n",
    "df[\"Variant\"] = [i,i,i,i,i,i,i,i]\n",
    "df = df[[\"Plot\",\"Cell_type\",\"Variant\",\"IL\",\"pSTAT\"]]\n",
    "df_data = df_data.append(df, ignore_index=True)"
   ]
  },
  {
   "cell_type": "code",
   "execution_count": 7,
   "id": "f534349e-891a-4970-96fc-d5290043c5ea",
   "metadata": {},
   "outputs": [],
   "source": [
    "df = pd.read_csv('data_IL1B/HEK/87_66.csv', header=None)\n",
    "df.columns = [\"IL\", \"pSTAT\"]\n",
    "# Mistake when collecting data pM is 1e-12!!!\n",
    "df[\"IL\"] = df[\"IL\"]*1e-3\n",
    "df[\"pSTAT\"] = df[\"pSTAT\"]/fit[0]*100\n",
    "i=1\n",
    "df[\"Plot\"] = [i,i,i,i,i,i,i,i]\n",
    "i=\"ACH-000049\"\n",
    "df[\"Cell_type\"] = [i,i,i,i,i,i,i,i]\n",
    "i=\"87:66\"\n",
    "df[\"Variant\"] = [i,i,i,i,i,i,i,i]\n",
    "df = df[[\"Plot\",\"Cell_type\",\"Variant\",\"IL\",\"pSTAT\"]]\n",
    "df_data = df_data.append(df, ignore_index=True)"
   ]
  },
  {
   "cell_type": "code",
   "execution_count": 8,
   "id": "2c4a978d-6c96-457a-9168-8cf1f1725227",
   "metadata": {},
   "outputs": [],
   "source": [
    "df = pd.read_csv('data_IL1B/HEK/93_60.csv', header=None)\n",
    "df.columns = [\"IL\", \"pSTAT\"]\n",
    "# Mistake when collecting data pM is 1e-12!!!\n",
    "df[\"IL\"] = df[\"IL\"]*1e-3\n",
    "df[\"pSTAT\"] = df[\"pSTAT\"]/fit[0]*100\n",
    "i=1\n",
    "df[\"Plot\"] = [i,i,i,i,i,i,i,i]\n",
    "i=\"ACH-000049\"\n",
    "df[\"Cell_type\"] = [i,i,i,i,i,i,i,i]\n",
    "i=\"93:60\"\n",
    "df[\"Variant\"] = [i,i,i,i,i,i,i,i]\n",
    "df = df[[\"Plot\",\"Cell_type\",\"Variant\",\"IL\",\"pSTAT\"]]\n",
    "df_data = df_data.append(df, ignore_index=True)"
   ]
  },
  {
   "cell_type": "code",
   "execution_count": 9,
   "id": "f7d1f72b-2c1d-4de1-b7fc-237cce2ebd89",
   "metadata": {},
   "outputs": [],
   "source": [
    "df_data.columns = [\"Plot\",\"Cell_type\",\"Variant\",\"A\",\"pSTAT\"]\n",
    "df_data[\"IL\"] = [6e-12 for i in range(0,len(df_data[\"Plot\"]))]\n",
    "df_data= df_data[[\"Plot\",\"Cell_type\",\"Variant\",\"IL\",\"A\",\"pSTAT\"]]"
   ]
  },
  {
   "cell_type": "code",
   "execution_count": 10,
   "id": "0efdba91-d702-400e-8ffb-4639abb97dce",
   "metadata": {},
   "outputs": [],
   "source": [
    "df_data.to_csv('data_IL1B/IL1B_data.csv', index=False)"
   ]
  },
  {
   "cell_type": "code",
   "execution_count": 11,
   "id": "77bd36a0-e41c-405a-a546-adc5afc915bd",
   "metadata": {},
   "outputs": [],
   "source": [
    "def hill_func(inp,K):\n",
    "    out=100/(1+inp/K)\n",
    "    return out"
   ]
  },
  {
   "cell_type": "code",
   "execution_count": 12,
   "id": "98c90ae6-6ff5-4542-b540-1d6a25f48602",
   "metadata": {
    "tags": []
   },
   "outputs": [],
   "source": [
    "df_hill = pd.DataFrame(columns=[\"Plot\",\"Cell_type\",\"Variant\",\"EC50_t\",\"EC50_m\",\"Amp_t\",\"Amp_m\",\"EC50_e\",\"Amp_e\",\"Error\"])\n",
    "i = 0\n",
    "for plot_num in list(dict.fromkeys(df_data[\"Plot\"])):\n",
    "    df_plot = df_data.loc[df_data[\"Plot\"]==plot_num]\n",
    "    for var in list(dict.fromkeys(df_plot[\"Variant\"])):\n",
    "        df_var = df_plot.loc[df_plot[\"Variant\"]==var]\n",
    "        fit, cov = curve_fit(hill_func, df_var[\"A\"], df_var[\"pSTAT\"], bounds = ([df_var[\"A\"].min()], [df_var[\"A\"].max()*10]))\n",
    "        df_hill.loc[len(df_hill.index)] = [plot_num, list(df_var[\"Cell_type\"])[0], var, np.log10(fit[0]), np.nan, 10, np.nan, np.nan, np.nan, np.nan]\n",
    "        i += 1\n",
    "df_hill.to_csv('data_IL1B/IL1B_data_hill.csv', index=False)"
   ]
  },
  {
   "cell_type": "markdown",
   "id": "99a79445-bc6a-4387-84b3-086a19692ff6",
   "metadata": {},
   "source": [
    "# Linear model dataset"
   ]
  },
  {
   "cell_type": "code",
   "execution_count": 4,
   "id": "5dcb625c-9039-43ab-bc05-bed561207e5e",
   "metadata": {},
   "outputs": [],
   "source": [
    "df = pd.read_csv('data_IL1B/IL1B_dataset.csv')\n",
    "# Get data where we got TPM and protein count\n",
    "df_data = df.loc[np.logical_and(np.invert(np.isnan(df[\"RNA dataset num.\"])),np.invert(np.isnan(df[\"Prot. count dataset num.\"])))]"
   ]
  },
  {
   "cell_type": "code",
   "execution_count": 5,
   "id": "1e1607db-d0d1-40ae-972d-27e69c65e59b",
   "metadata": {
    "tags": []
   },
   "outputs": [],
   "source": [
    "# IL2 receptors data come from gamma receptor cytokines paper\n",
    "gene_list = [\"IL1R1_HUMAN\"]\n",
    "df_lin = pd.DataFrame(columns=[\"Gene\",\"Intercept\",\"Slope\",\"r2\"])\n",
    "for gene in gene_list:\n",
    "    df_gene = df_data.loc[df_data[\"Gene\"]==gene]\n",
    "    # Cutoff for minimal expression\n",
    "    df_gene = df_gene.loc[df_gene[\"Log2 TPM\"] > 0.05]\n",
    "    TPM = df_gene[\"Log2 TPM\"]\n",
    "    Prot = df_gene[\"Log10 Prot. count\"]\n",
    "    model = TheilSenRegressor(random_state=0).fit(np.array(TPM).reshape(-1, 1), np.array(Prot).reshape(-1, 1))\n",
    "    df_lin.loc[len(df_lin.index)] = [gene, model.intercept_, model.coef_[0], r2_score(Prot, model.predict(np.array(TPM).reshape(-1, 1)))]"
   ]
  },
  {
   "cell_type": "code",
   "execution_count": 6,
   "id": "bbb4a686-2e95-4148-b640-c14c1ed9c378",
   "metadata": {},
   "outputs": [],
   "source": [
    "df_lin.to_csv('data_IL1B/linear_models_IL1B.csv') # Save linear model"
   ]
  }
 ],
 "metadata": {
  "kernelspec": {
   "display_name": "Python 3 (ipykernel)",
   "language": "python",
   "name": "python3"
  },
  "language_info": {
   "codemirror_mode": {
    "name": "ipython",
    "version": 3
   },
   "file_extension": ".py",
   "mimetype": "text/x-python",
   "name": "python",
   "nbconvert_exporter": "python",
   "pygments_lexer": "ipython3",
   "version": "3.10.14"
  }
 },
 "nbformat": 4,
 "nbformat_minor": 5
}
